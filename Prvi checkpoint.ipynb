{
 "cells": [
  {
   "cell_type": "markdown",
   "metadata": {},
   "source": [
    "# Prvi checkpoint"
   ]
  },
  {
   "cell_type": "markdown",
   "metadata": {},
   "source": [
    "## Importovanje pandas i time paketa"
   ]
  },
  {
   "cell_type": "code",
   "execution_count": 19,
   "metadata": {},
   "outputs": [],
   "source": [
    "import pandas as pd\n",
    "import time"
   ]
  },
  {
   "cell_type": "markdown",
   "metadata": {},
   "source": [
    "## Importovanje podataka iz Stores dataseta"
   ]
  },
  {
   "cell_type": "code",
   "execution_count": 20,
   "metadata": {},
   "outputs": [
    {
     "name": "stdout",
     "output_type": "stream",
     "text": [
      "    Store Type    Size\n",
      "0       1    A  151315\n",
      "1       2    A  202307\n",
      "2       3    B   37392\n",
      "3       4    A  205863\n",
      "4       5    B   34875\n",
      "5       6    A  202505\n",
      "6       7    B   70713\n",
      "7       8    A  155078\n",
      "8       9    B  125833\n",
      "9      10    B  126512\n",
      "10     11    A  207499\n",
      "11     12    B  112238\n",
      "12     13    A  219622\n",
      "13     14    A  200898\n",
      "14     15    B  123737\n",
      "15     16    B   57197\n",
      "16     17    B   93188\n",
      "17     18    B  120653\n",
      "18     19    A  203819\n",
      "19     20    A  203742\n",
      "20     21    B  140167\n",
      "21     22    B  119557\n",
      "22     23    B  114533\n",
      "23     24    A  203819\n",
      "24     25    B  128107\n",
      "25     26    A  152513\n",
      "26     27    A  204184\n",
      "27     28    A  206302\n",
      "28     29    B   93638\n",
      "29     30    C   42988\n",
      "30     31    A  203750\n",
      "31     32    A  203007\n",
      "32     33    A   39690\n",
      "33     34    A  158114\n",
      "34     35    B  103681\n",
      "35     36    A   39910\n",
      "36     37    C   39910\n",
      "37     38    C   39690\n",
      "38     39    A  184109\n",
      "39     40    A  155083\n",
      "40     41    A  196321\n",
      "41     42    C   39690\n",
      "42     43    C   41062\n",
      "43     44    C   39910\n",
      "44     45    B  118221\n"
     ]
    }
   ],
   "source": [
    "Stores=pd.read_csv(\"F:\\\\Faks\\\\8. semestar\\\\Neuronske\\\\Data set\\\\Stores data-set.csv\")\n",
    "print(Stores)"
   ]
  },
  {
   "cell_type": "markdown",
   "metadata": {},
   "source": [
    "## Provera tipova podataka iz dataseta Stores"
   ]
  },
  {
   "cell_type": "code",
   "execution_count": 21,
   "metadata": {},
   "outputs": [
    {
     "name": "stdout",
     "output_type": "stream",
     "text": [
      "Store     int64\n",
      "Type     object\n",
      "Size      int64\n",
      "dtype: object\n"
     ]
    }
   ],
   "source": [
    "dataTypes = Stores.dtypes\n",
    "print(dataTypes)"
   ]
  },
  {
   "cell_type": "markdown",
   "metadata": {},
   "source": [
    "## Zamena kategorijskih vrednosti numeričkim (A, B i C uzimaju vrednosti 1, 2 i 3 respektivno)"
   ]
  },
  {
   "cell_type": "code",
   "execution_count": 22,
   "metadata": {},
   "outputs": [
    {
     "name": "stdout",
     "output_type": "stream",
     "text": [
      "    Store  Type    Size\n",
      "0       1     1  151315\n",
      "1       2     1  202307\n",
      "2       3     2   37392\n",
      "3       4     1  205863\n",
      "4       5     2   34875\n",
      "5       6     1  202505\n",
      "6       7     2   70713\n",
      "7       8     1  155078\n",
      "8       9     2  125833\n",
      "9      10     2  126512\n",
      "10     11     1  207499\n",
      "11     12     2  112238\n",
      "12     13     1  219622\n",
      "13     14     1  200898\n",
      "14     15     2  123737\n",
      "15     16     2   57197\n",
      "16     17     2   93188\n",
      "17     18     2  120653\n",
      "18     19     1  203819\n",
      "19     20     1  203742\n",
      "20     21     2  140167\n",
      "21     22     2  119557\n",
      "22     23     2  114533\n",
      "23     24     1  203819\n",
      "24     25     2  128107\n",
      "25     26     1  152513\n",
      "26     27     1  204184\n",
      "27     28     1  206302\n",
      "28     29     2   93638\n",
      "29     30     3   42988\n",
      "30     31     1  203750\n",
      "31     32     1  203007\n",
      "32     33     1   39690\n",
      "33     34     1  158114\n",
      "34     35     2  103681\n",
      "35     36     1   39910\n",
      "36     37     3   39910\n",
      "37     38     3   39690\n",
      "38     39     1  184109\n",
      "39     40     1  155083\n",
      "40     41     1  196321\n",
      "41     42     3   39690\n",
      "42     43     3   41062\n",
      "43     44     3   39910\n",
      "44     45     2  118221\n"
     ]
    }
   ],
   "source": [
    "Stores[\"Type\"] = Stores[\"Type\"].replace(to_replace=[\"A\",\"B\",\"C\"],value=[1,2,3])\n",
    "print(Stores)"
   ]
  },
  {
   "cell_type": "markdown",
   "metadata": {},
   "source": [
    "## Importovanje podataka iz Sales dataseta\n",
    "\n",
    "Tokom samog učitavanja je specificirano da se datum učitava kao date format i da podaci idu redom godina, mesec, dan."
   ]
  },
  {
   "cell_type": "code",
   "execution_count": 23,
   "metadata": {},
   "outputs": [
    {
     "name": "stdout",
     "output_type": "stream",
     "text": [
      "        Store  Dept       Date  Weekly_Sales  IsHoliday\n",
      "0           1     1 2010-02-05      24924.50      False\n",
      "1           1     1 2010-02-12      46039.49       True\n",
      "2           1     1 2010-02-19      41595.55      False\n",
      "3           1     1 2010-02-26      19403.54      False\n",
      "4           1     1 2010-03-05      21827.90      False\n",
      "...       ...   ...        ...           ...        ...\n",
      "421565     45    98 2012-09-28        508.37      False\n",
      "421566     45    98 2012-10-05        628.10      False\n",
      "421567     45    98 2012-10-12       1061.02      False\n",
      "421568     45    98 2012-10-19        760.01      False\n",
      "421569     45    98 2012-10-26       1076.80      False\n",
      "\n",
      "[421570 rows x 5 columns]\n"
     ]
    }
   ],
   "source": [
    "Sales = pd.read_csv(\"F:\\\\Faks\\\\8. semestar\\\\Neuronske\\\\Data set\\\\Sales data-set.csv\",parse_dates=['Date'],dayfirst=True)\n",
    "print(Sales)"
   ]
  },
  {
   "cell_type": "markdown",
   "metadata": {},
   "source": [
    "## Proveravamo da li smo uspešno konvertovali podatke"
   ]
  },
  {
   "cell_type": "code",
   "execution_count": 24,
   "metadata": {},
   "outputs": [
    {
     "name": "stdout",
     "output_type": "stream",
     "text": [
      "Store                    int64\n",
      "Dept                     int64\n",
      "Date            datetime64[ns]\n",
      "Weekly_Sales           float64\n",
      "IsHoliday                 bool\n",
      "dtype: object\n"
     ]
    }
   ],
   "source": [
    "dataTypes = Sales.dtypes\n",
    "print(dataTypes)"
   ]
  },
  {
   "cell_type": "markdown",
   "metadata": {},
   "source": [
    "Uspešno konvertovani podaci!"
   ]
  },
  {
   "cell_type": "markdown",
   "metadata": {},
   "source": [
    "## Importovanje podataka iz Features dataseta"
   ]
  },
  {
   "cell_type": "code",
   "execution_count": 25,
   "metadata": {},
   "outputs": [
    {
     "name": "stdout",
     "output_type": "stream",
     "text": [
      "      Store       Date  Temperature  Fuel_Price  MarkDown1  MarkDown2  \\\n",
      "0         1 2010-02-05        42.31       2.572        NaN        NaN   \n",
      "1         1 2010-02-12        38.51       2.548        NaN        NaN   \n",
      "2         1 2010-02-19        39.93       2.514        NaN        NaN   \n",
      "3         1 2010-02-26        46.63       2.561        NaN        NaN   \n",
      "4         1 2010-03-05        46.50       2.625        NaN        NaN   \n",
      "...     ...        ...          ...         ...        ...        ...   \n",
      "8185     45 2013-06-28        76.05       3.639    4842.29     975.03   \n",
      "8186     45 2013-07-05        77.50       3.614    9090.48    2268.58   \n",
      "8187     45 2013-07-12        79.37       3.614    3789.94    1827.31   \n",
      "8188     45 2013-07-19        82.84       3.737    2961.49    1047.07   \n",
      "8189     45 2013-07-26        76.06       3.804     212.02     851.73   \n",
      "\n",
      "      MarkDown3  MarkDown4  MarkDown5         CPI  Unemployment  IsHoliday  \n",
      "0           NaN        NaN        NaN  211.096358         8.106      False  \n",
      "1           NaN        NaN        NaN  211.242170         8.106       True  \n",
      "2           NaN        NaN        NaN  211.289143         8.106      False  \n",
      "3           NaN        NaN        NaN  211.319643         8.106      False  \n",
      "4           NaN        NaN        NaN  211.350143         8.106      False  \n",
      "...         ...        ...        ...         ...           ...        ...  \n",
      "8185       3.00    2449.97    3169.69         NaN           NaN      False  \n",
      "8186     582.74    5797.47    1514.93         NaN           NaN      False  \n",
      "8187      85.72     744.84    2150.36         NaN           NaN      False  \n",
      "8188     204.19     363.00    1059.46         NaN           NaN      False  \n",
      "8189       2.06      10.88    1864.57         NaN           NaN      False  \n",
      "\n",
      "[8190 rows x 12 columns]\n"
     ]
    }
   ],
   "source": [
    "Features = pd.read_csv(\"F:\\\\Faks\\\\8. semestar\\\\Neuronske\\\\Data set\\\\Features data set.csv\",parse_dates=['Date'],dayfirst=True)\n",
    "print(Features)"
   ]
  },
  {
   "cell_type": "markdown",
   "metadata": {},
   "source": [
    "## Ponavljamo postupak provere tipova podataka kao kod Sales dataseta"
   ]
  },
  {
   "cell_type": "code",
   "execution_count": 26,
   "metadata": {},
   "outputs": [
    {
     "name": "stdout",
     "output_type": "stream",
     "text": [
      "Store                    int64\n",
      "Date            datetime64[ns]\n",
      "Temperature            float64\n",
      "Fuel_Price             float64\n",
      "MarkDown1              float64\n",
      "MarkDown2              float64\n",
      "MarkDown3              float64\n",
      "MarkDown4              float64\n",
      "MarkDown5              float64\n",
      "CPI                    float64\n",
      "Unemployment           float64\n",
      "IsHoliday                 bool\n",
      "dtype: object\n"
     ]
    }
   ],
   "source": [
    "dataTypes = Features.dtypes\n",
    "print(dataTypes)"
   ]
  },
  {
   "cell_type": "markdown",
   "metadata": {},
   "source": [
    "## Spajamo Stores i Sales pomoću zajedničke kolone Store"
   ]
  },
  {
   "cell_type": "code",
   "execution_count": 27,
   "metadata": {},
   "outputs": [
    {
     "ename": "NameError",
     "evalue": "name 'head' is not defined",
     "output_type": "error",
     "traceback": [
      "\u001b[1;31m---------------------------------------------------------------------------\u001b[0m",
      "\u001b[1;31mNameError\u001b[0m                                 Traceback (most recent call last)",
      "\u001b[1;32m<ipython-input-27-3b44fcc10e53>\u001b[0m in \u001b[0;36m<module>\u001b[1;34m\u001b[0m\n\u001b[0;32m      1\u001b[0m \u001b[0moutput1\u001b[0m\u001b[1;33m=\u001b[0m \u001b[0mpd\u001b[0m\u001b[1;33m.\u001b[0m\u001b[0mmerge\u001b[0m\u001b[1;33m(\u001b[0m\u001b[0mStores\u001b[0m\u001b[1;33m,\u001b[0m \u001b[0mSales\u001b[0m\u001b[1;33m,\u001b[0m \u001b[0mon\u001b[0m\u001b[1;33m=\u001b[0m\u001b[1;34m'Store'\u001b[0m\u001b[1;33m,\u001b[0m \u001b[0mhow\u001b[0m\u001b[1;33m=\u001b[0m\u001b[1;34m'outer'\u001b[0m\u001b[1;33m)\u001b[0m\u001b[1;33m\u001b[0m\u001b[1;33m\u001b[0m\u001b[0m\n\u001b[1;32m----> 2\u001b[1;33m \u001b[0mhead\u001b[0m\u001b[1;33m(\u001b[0m\u001b[0moutput1\u001b[0m\u001b[1;33m)\u001b[0m\u001b[1;33m\u001b[0m\u001b[1;33m\u001b[0m\u001b[0m\n\u001b[0m",
      "\u001b[1;31mNameError\u001b[0m: name 'head' is not defined"
     ]
    }
   ],
   "source": [
    "output1= pd.merge(Stores, Sales, on='Store', how='outer')\n",
    "head(output1)"
   ]
  },
  {
   "cell_type": "markdown",
   "metadata": {},
   "source": [
    "## Spajamo output1 sa Features pomoću tri zajedničkih kolona Stores, Date i IsHoliday"
   ]
  },
  {
   "cell_type": "code",
   "execution_count": null,
   "metadata": {
    "scrolled": true
   },
   "outputs": [],
   "source": [
    "Svi_podaci=pd.merge(output1, Features, on=['Store','Date','IsHoliday'],how='outer')\n",
    "print(Svi_podaci)"
   ]
  },
  {
   "cell_type": "markdown",
   "metadata": {},
   "source": [
    "Primećujemo dosta NaN vrednosti u 2013 godini, razlog tome je što samo u datasetu Featrures imamo podatke za tu godinu, ne i u Sales datasetu."
   ]
  },
  {
   "cell_type": "markdown",
   "metadata": {},
   "source": [
    "## Filtriramo samo neophodan raspon datuma"
   ]
  },
  {
   "cell_type": "code",
   "execution_count": null,
   "metadata": {},
   "outputs": [],
   "source": [
    "pocetni_datum = \"2010-02-05\"\n",
    "krajnji_datum = \"2012-11-01\"\n",
    "\n",
    "nakon_pocetnog = Svi_podaci[\"Date\"] >= pocetni_datum\n",
    "pre_krajnjeg = Svi_podaci[\"Date\"] <= krajnji_datum\n",
    "raspon_datuma = nakon_pocetnog & pre_krajnjeg \n",
    "konacna_baza = Svi_podaci.loc[raspon_datuma]\n"
   ]
  },
  {
   "cell_type": "code",
   "execution_count": null,
   "metadata": {},
   "outputs": [],
   "source": [
    "print(konacna_baza)"
   ]
  },
  {
   "cell_type": "markdown",
   "metadata": {},
   "source": [
    "## Ukupan broj NA vrednosti"
   ]
  },
  {
   "cell_type": "code",
   "execution_count": null,
   "metadata": {},
   "outputs": [],
   "source": [
    "konacna_baza.isna().sum()"
   ]
  },
  {
   "cell_type": "markdown",
   "metadata": {},
   "source": [
    "## Grupisanje konacne baze po Store"
   ]
  },
  {
   "cell_type": "markdown",
   "metadata": {},
   "source": [
    "groupByStore=konacna_baza.groupby(by='Store', axis=0, level=None, as_index=True, sort=True, group_keys=True)"
   ]
  },
  {
   "cell_type": "markdown",
   "metadata": {},
   "source": [
    "## Prikazivanje grupa"
   ]
  },
  {
   "cell_type": "code",
   "execution_count": null,
   "metadata": {},
   "outputs": [],
   "source": [
    "groupByStore.first()"
   ]
  },
  {
   "cell_type": "markdown",
   "metadata": {},
   "source": [
    "Vidimo da postoji 45 prodavnica."
   ]
  },
  {
   "cell_type": "markdown",
   "metadata": {},
   "source": [
    "## Prikazivanje podataka za prvu prodavnicu"
   ]
  },
  {
   "cell_type": "code",
   "execution_count": null,
   "metadata": {},
   "outputs": [],
   "source": [
    "group.get_group(1)"
   ]
  },
  {
   "cell_type": "markdown",
   "metadata": {},
   "source": [
    "Podaci su sortirani po datumu, vidimo da postoji 98 departmana u 1. prodavnici."
   ]
  }
 ],
 "metadata": {
  "kernelspec": {
   "display_name": "Python 3",
   "language": "python",
   "name": "python3"
  },
  "language_info": {
   "codemirror_mode": {
    "name": "ipython",
    "version": 3
   },
   "file_extension": ".py",
   "mimetype": "text/x-python",
   "name": "python",
   "nbconvert_exporter": "python",
   "pygments_lexer": "ipython3",
   "version": "3.8.5"
  }
 },
 "nbformat": 4,
 "nbformat_minor": 4
}
